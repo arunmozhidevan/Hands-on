{
  "nbformat": 4,
  "nbformat_minor": 0,
  "metadata": {
    "colab": {
      "name": "Tensorflow.ipynb",
      "provenance": [],
      "authorship_tag": "ABX9TyOZPdzMiJGR6H6ZDvM82FhC",
      "include_colab_link": true
    },
    "kernelspec": {
      "name": "python3",
      "display_name": "Python 3"
    },
    "language_info": {
      "name": "python"
    },
    "accelerator": "GPU"
  },
  "cells": [
    {
      "cell_type": "markdown",
      "metadata": {
        "id": "view-in-github",
        "colab_type": "text"
      },
      "source": [
        "<a href=\"https://colab.research.google.com/github/arunmozhidevan/Hands-on/blob/main/Tensorflow.ipynb\" target=\"_parent\"><img src=\"https://colab.research.google.com/assets/colab-badge.svg\" alt=\"Open In Colab\"/></a>"
      ]
    },
    {
      "cell_type": "code",
      "metadata": {
        "id": "xGCiYNhBHDr_"
      },
      "source": [
        "import tensorflow as tf\n",
        "from tensorflow import keras\n",
        "from tensorflow.keras import layers, Sequential, models, Input\n",
        "from tensorflow.keras.datasets import mnist"
      ],
      "execution_count": 11,
      "outputs": []
    },
    {
      "cell_type": "markdown",
      "metadata": {
        "id": "coSxXQuJod4C"
      },
      "source": [
        "# Basics"
      ]
    },
    {
      "cell_type": "markdown",
      "metadata": {
        "id": "VHPxCmbdiqWS"
      },
      "source": [
        "## Intialization"
      ]
    },
    {
      "cell_type": "code",
      "metadata": {
        "colab": {
          "base_uri": "https://localhost:8080/"
        },
        "id": "Je3pNXUehWDN",
        "outputId": "df8957d6-654e-47f2-ff8b-9e41f90145f6"
      },
      "source": [
        "print(tf.constant(4, shape=(1,1), dtype=tf.float32))"
      ],
      "execution_count": null,
      "outputs": [
        {
          "output_type": "stream",
          "name": "stdout",
          "text": [
            "tf.Tensor([[4.]], shape=(1, 1), dtype=float32)\n"
          ]
        }
      ]
    },
    {
      "cell_type": "code",
      "metadata": {
        "colab": {
          "base_uri": "https://localhost:8080/"
        },
        "id": "xcBzx9WchdQx",
        "outputId": "68c9e040-3298-4b97-99c6-ff7cd81bd354"
      },
      "source": [
        "print(tf.constant([[1, 2, 3], [4, 5, 6], [7, 8, 9]]))"
      ],
      "execution_count": null,
      "outputs": [
        {
          "output_type": "stream",
          "name": "stdout",
          "text": [
            "tf.Tensor(\n",
            "[[1 2 3]\n",
            " [4 5 6]\n",
            " [7 8 9]], shape=(3, 3), dtype=int32)\n"
          ]
        }
      ]
    },
    {
      "cell_type": "code",
      "metadata": {
        "colab": {
          "base_uri": "https://localhost:8080/"
        },
        "id": "f5H7VpJCh7zC",
        "outputId": "e636dd23-0872-41a1-8f8d-bac6361886d2"
      },
      "source": [
        "tf.ones([4,4])"
      ],
      "execution_count": null,
      "outputs": [
        {
          "output_type": "execute_result",
          "data": {
            "text/plain": [
              "<tf.Tensor: shape=(4, 4), dtype=float32, numpy=\n",
              "array([[1., 1., 1., 1.],\n",
              "       [1., 1., 1., 1.],\n",
              "       [1., 1., 1., 1.],\n",
              "       [1., 1., 1., 1.]], dtype=float32)>"
            ]
          },
          "metadata": {},
          "execution_count": 10
        }
      ]
    },
    {
      "cell_type": "code",
      "metadata": {
        "colab": {
          "base_uri": "https://localhost:8080/"
        },
        "id": "M8La8Gd4iE-p",
        "outputId": "6bfb90e4-9024-4efe-d48e-c32ae0f799eb"
      },
      "source": [
        "tf.ones([2,4])"
      ],
      "execution_count": null,
      "outputs": [
        {
          "output_type": "execute_result",
          "data": {
            "text/plain": [
              "<tf.Tensor: shape=(2, 4), dtype=float32, numpy=\n",
              "array([[1., 1., 1., 1.],\n",
              "       [1., 1., 1., 1.]], dtype=float32)>"
            ]
          },
          "metadata": {},
          "execution_count": 11
        }
      ]
    },
    {
      "cell_type": "code",
      "metadata": {
        "colab": {
          "base_uri": "https://localhost:8080/"
        },
        "id": "Bk2MUfbwiIKx",
        "outputId": "46e88d07-632a-4678-a1e0-d721b6614c24"
      },
      "source": [
        "tf.eye(3) # Identity matrix"
      ],
      "execution_count": null,
      "outputs": [
        {
          "output_type": "execute_result",
          "data": {
            "text/plain": [
              "<tf.Tensor: shape=(3, 3), dtype=float32, numpy=\n",
              "array([[1., 0., 0.],\n",
              "       [0., 1., 0.],\n",
              "       [0., 0., 1.]], dtype=float32)>"
            ]
          },
          "metadata": {},
          "execution_count": 12
        }
      ]
    },
    {
      "cell_type": "code",
      "metadata": {
        "colab": {
          "base_uri": "https://localhost:8080/"
        },
        "id": "BR0ML4uDiLRB",
        "outputId": "9fa8d02f-3f6e-48a5-dd2d-e5c61ff84181"
      },
      "source": [
        "tf.random.normal([5,5], mean=0, stddev=1)"
      ],
      "execution_count": null,
      "outputs": [
        {
          "output_type": "execute_result",
          "data": {
            "text/plain": [
              "<tf.Tensor: shape=(5, 5), dtype=float32, numpy=\n",
              "array([[-0.66746145, -0.6403874 ,  1.1523805 ,  0.5163948 ,  0.12573761],\n",
              "       [-0.49320498,  1.1328762 ,  1.4815823 , -0.39251056, -0.24622172],\n",
              "       [ 0.6486931 ,  0.7917255 ,  1.7717952 , -0.7403515 ,  0.3993296 ],\n",
              "       [-0.030989  ,  1.2579029 , -0.0165844 ,  0.9802437 , -0.32809407],\n",
              "       [-0.05450806, -0.8369559 ,  0.13290612,  1.031123  , -1.1615132 ]],\n",
              "      dtype=float32)>"
            ]
          },
          "metadata": {},
          "execution_count": 14
        }
      ]
    },
    {
      "cell_type": "code",
      "metadata": {
        "colab": {
          "base_uri": "https://localhost:8080/"
        },
        "id": "GT91zsEGictZ",
        "outputId": "e2e0a9a7-c72e-4181-a97b-5193744a801e"
      },
      "source": [
        "tf.random.uniform([2,5], minval=0, maxval=1)"
      ],
      "execution_count": null,
      "outputs": [
        {
          "output_type": "execute_result",
          "data": {
            "text/plain": [
              "<tf.Tensor: shape=(2, 5), dtype=float32, numpy=\n",
              "array([[0.85962903, 0.77512205, 0.40602958, 0.71872175, 0.1111064 ],\n",
              "       [0.534021  , 0.34001505, 0.8486241 , 0.24019349, 0.9262185 ]],\n",
              "      dtype=float32)>"
            ]
          },
          "metadata": {},
          "execution_count": 15
        }
      ]
    },
    {
      "cell_type": "code",
      "metadata": {
        "colab": {
          "base_uri": "https://localhost:8080/"
        },
        "id": "HE5uUETpin3q",
        "outputId": "bfc7de96-c605-4c77-f80d-9d4acd08c9f5"
      },
      "source": [
        "tf.range(5)"
      ],
      "execution_count": null,
      "outputs": [
        {
          "output_type": "execute_result",
          "data": {
            "text/plain": [
              "<tf.Tensor: shape=(5,), dtype=int32, numpy=array([0, 1, 2, 3, 4], dtype=int32)>"
            ]
          },
          "metadata": {},
          "execution_count": 16
        }
      ]
    },
    {
      "cell_type": "code",
      "metadata": {
        "colab": {
          "base_uri": "https://localhost:8080/"
        },
        "id": "mfvF8yiIiwc5",
        "outputId": "96ea93ae-c7f6-4231-b159-32cade59723c"
      },
      "source": [
        "tf.range(2,5)"
      ],
      "execution_count": null,
      "outputs": [
        {
          "output_type": "execute_result",
          "data": {
            "text/plain": [
              "<tf.Tensor: shape=(3,), dtype=int32, numpy=array([2, 3, 4], dtype=int32)>"
            ]
          },
          "metadata": {},
          "execution_count": 17
        }
      ]
    },
    {
      "cell_type": "code",
      "metadata": {
        "colab": {
          "base_uri": "https://localhost:8080/"
        },
        "id": "NqbH2OyjiynR",
        "outputId": "98c790df-92a1-4637-b45a-a9f452dd0c29"
      },
      "source": [
        "tf.range(2,50,2)"
      ],
      "execution_count": null,
      "outputs": [
        {
          "output_type": "execute_result",
          "data": {
            "text/plain": [
              "<tf.Tensor: shape=(24,), dtype=int32, numpy=\n",
              "array([ 2,  4,  6,  8, 10, 12, 14, 16, 18, 20, 22, 24, 26, 28, 30, 32, 34,\n",
              "       36, 38, 40, 42, 44, 46, 48], dtype=int32)>"
            ]
          },
          "metadata": {},
          "execution_count": 21
        }
      ]
    },
    {
      "cell_type": "code",
      "metadata": {
        "colab": {
          "base_uri": "https://localhost:8080/"
        },
        "id": "Mc2PFPuQi1sC",
        "outputId": "15e18249-7db9-49d5-d355-5808a7e9bba0"
      },
      "source": [
        "x = tf.constant(4)\n",
        "print(x)"
      ],
      "execution_count": null,
      "outputs": [
        {
          "output_type": "stream",
          "name": "stdout",
          "text": [
            "tf.Tensor(4, shape=(), dtype=int32)\n"
          ]
        }
      ]
    },
    {
      "cell_type": "code",
      "metadata": {
        "colab": {
          "base_uri": "https://localhost:8080/"
        },
        "id": "m8xKDfWAjK7J",
        "outputId": "c336cf20-4408-49e7-9efb-842f3d72ba7c"
      },
      "source": [
        "new_x = tf.cast(x,tf.float32)\n",
        "print(new_x)"
      ],
      "execution_count": null,
      "outputs": [
        {
          "output_type": "stream",
          "name": "stdout",
          "text": [
            "tf.Tensor(4.0, shape=(), dtype=float32)\n"
          ]
        }
      ]
    },
    {
      "cell_type": "markdown",
      "metadata": {
        "id": "PaXjC05ujdoS"
      },
      "source": [
        "## Mathematical Operations"
      ]
    },
    {
      "cell_type": "code",
      "metadata": {
        "id": "DhnOwKcdjdFr"
      },
      "source": [
        "x = tf.constant([1, 1, 1])\n",
        "y = tf.constant([3, 4, 5])"
      ],
      "execution_count": null,
      "outputs": []
    },
    {
      "cell_type": "code",
      "metadata": {
        "colab": {
          "base_uri": "https://localhost:8080/"
        },
        "id": "zp4AWJCmjQ8p",
        "outputId": "0a28ad48-3be6-4c24-ef81-9b206ae9602e"
      },
      "source": [
        "x + y # tf.add(x,y)"
      ],
      "execution_count": null,
      "outputs": [
        {
          "output_type": "execute_result",
          "data": {
            "text/plain": [
              "<tf.Tensor: shape=(3,), dtype=int32, numpy=array([4, 5, 6], dtype=int32)>"
            ]
          },
          "metadata": {},
          "execution_count": 31
        }
      ]
    },
    {
      "cell_type": "code",
      "metadata": {
        "colab": {
          "base_uri": "https://localhost:8080/"
        },
        "id": "5rjgTbwIjsRz",
        "outputId": "21d46fe2-4a7c-4ad0-f51f-29c68d5c0ddd"
      },
      "source": [
        "x - y # tf.subtract(x,y)"
      ],
      "execution_count": null,
      "outputs": [
        {
          "output_type": "execute_result",
          "data": {
            "text/plain": [
              "<tf.Tensor: shape=(3,), dtype=int32, numpy=array([-2, -3, -4], dtype=int32)>"
            ]
          },
          "metadata": {},
          "execution_count": 33
        }
      ]
    },
    {
      "cell_type": "code",
      "metadata": {
        "colab": {
          "base_uri": "https://localhost:8080/"
        },
        "id": "sQp3JqE1jv7S",
        "outputId": "f45a08d5-eaca-4861-9046-d493c74796b2"
      },
      "source": [
        "x * y # tf.multiply(x,y)"
      ],
      "execution_count": null,
      "outputs": [
        {
          "output_type": "execute_result",
          "data": {
            "text/plain": [
              "<tf.Tensor: shape=(3,), dtype=int32, numpy=array([3, 4, 5], dtype=int32)>"
            ]
          },
          "metadata": {},
          "execution_count": 35
        }
      ]
    },
    {
      "cell_type": "code",
      "metadata": {
        "colab": {
          "base_uri": "https://localhost:8080/"
        },
        "id": "rrroII_sj6rj",
        "outputId": "9f0aa2e0-fae0-4573-97b7-26b34dfad290"
      },
      "source": [
        "x/y # tf.divide(x,y)"
      ],
      "execution_count": null,
      "outputs": [
        {
          "output_type": "execute_result",
          "data": {
            "text/plain": [
              "<tf.Tensor: shape=(3,), dtype=float64, numpy=array([0.33333333, 0.25      , 0.2       ])>"
            ]
          },
          "metadata": {},
          "execution_count": 37
        }
      ]
    },
    {
      "cell_type": "code",
      "metadata": {
        "colab": {
          "base_uri": "https://localhost:8080/"
        },
        "id": "w96qvQaikB36",
        "outputId": "afd5966f-f506-4e04-822e-2378ed79c715"
      },
      "source": [
        "tf.tensordot(x,y, axes=0) "
      ],
      "execution_count": null,
      "outputs": [
        {
          "output_type": "execute_result",
          "data": {
            "text/plain": [
              "<tf.Tensor: shape=(3, 3), dtype=int32, numpy=\n",
              "array([[3, 4, 5],\n",
              "       [3, 4, 5],\n",
              "       [3, 4, 5]], dtype=int32)>"
            ]
          },
          "metadata": {},
          "execution_count": 41
        }
      ]
    },
    {
      "cell_type": "code",
      "metadata": {
        "colab": {
          "base_uri": "https://localhost:8080/"
        },
        "id": "naHwFmQzkHmS",
        "outputId": "6a025fd4-e20d-45c6-a3b6-9c2346f72d08"
      },
      "source": [
        "tf.tensordot(x,y, axes=1)"
      ],
      "execution_count": null,
      "outputs": [
        {
          "output_type": "execute_result",
          "data": {
            "text/plain": [
              "<tf.Tensor: shape=(), dtype=int32, numpy=12>"
            ]
          },
          "metadata": {},
          "execution_count": 42
        }
      ]
    },
    {
      "cell_type": "code",
      "metadata": {
        "colab": {
          "base_uri": "https://localhost:8080/"
        },
        "id": "TF29JbJHkpxy",
        "outputId": "c48404ad-ba2c-47fb-ebfc-2aca65fe598e"
      },
      "source": [
        "y ** 2 # element vise "
      ],
      "execution_count": null,
      "outputs": [
        {
          "output_type": "execute_result",
          "data": {
            "text/plain": [
              "<tf.Tensor: shape=(3,), dtype=int32, numpy=array([ 9, 16, 25], dtype=int32)>"
            ]
          },
          "metadata": {},
          "execution_count": 44
        }
      ]
    },
    {
      "cell_type": "code",
      "metadata": {
        "colab": {
          "base_uri": "https://localhost:8080/"
        },
        "id": "WRan1ZBilUcy",
        "outputId": "358f8c72-6253-446b-9069-48a24a5a460c"
      },
      "source": [
        "a = tf.random.uniform([3,3])\n",
        "a"
      ],
      "execution_count": null,
      "outputs": [
        {
          "output_type": "execute_result",
          "data": {
            "text/plain": [
              "<tf.Tensor: shape=(3, 3), dtype=float32, numpy=\n",
              "array([[0.4310671 , 0.7431772 , 0.32836854],\n",
              "       [0.48572993, 0.9102713 , 0.9535769 ],\n",
              "       [0.5282905 , 0.85327756, 0.16232538]], dtype=float32)>"
            ]
          },
          "metadata": {},
          "execution_count": 52
        }
      ]
    },
    {
      "cell_type": "code",
      "metadata": {
        "colab": {
          "base_uri": "https://localhost:8080/"
        },
        "id": "_JFFa6IfllI7",
        "outputId": "8ff7f1ca-5208-41a1-a3f4-6d37f89e8e20"
      },
      "source": [
        "b = tf.random.uniform([3,3])\n",
        "b"
      ],
      "execution_count": null,
      "outputs": [
        {
          "output_type": "execute_result",
          "data": {
            "text/plain": [
              "<tf.Tensor: shape=(3, 3), dtype=float32, numpy=\n",
              "array([[0.32933843, 0.19505417, 0.7193521 ],\n",
              "       [0.9125161 , 0.5131787 , 0.42459834],\n",
              "       [0.58454025, 0.18999505, 0.10484457]], dtype=float32)>"
            ]
          },
          "metadata": {},
          "execution_count": 53
        }
      ]
    },
    {
      "cell_type": "code",
      "metadata": {
        "colab": {
          "base_uri": "https://localhost:8080/"
        },
        "id": "jrHxa-g_ll0D",
        "outputId": "43a1959b-14a4-411d-a16b-aa77e34f93a0"
      },
      "source": [
        "tf.matmul(a,b) # matrix multiplication "
      ],
      "execution_count": null,
      "outputs": [
        {
          "output_type": "execute_result",
          "data": {
            "text/plain": [
              "<tf.Tensor: shape=(3, 3), dtype=float32, numpy=\n",
              "array([[1.0120728 , 0.52785254, 0.6600685 ],\n",
              "       [1.5480108 , 0.7430504 , 0.8358879 ],\n",
              "       [1.0475017 , 0.57177013, 0.75934607]], dtype=float32)>"
            ]
          },
          "metadata": {},
          "execution_count": 54
        }
      ]
    },
    {
      "cell_type": "code",
      "metadata": {
        "colab": {
          "base_uri": "https://localhost:8080/"
        },
        "id": "xTiNIYtQl91i",
        "outputId": "dffa1b6b-bf91-44dd-fb86-9a67c8444a9b"
      },
      "source": [
        "a @ b # tf.matmul(a,b) "
      ],
      "execution_count": null,
      "outputs": [
        {
          "output_type": "execute_result",
          "data": {
            "text/plain": [
              "<tf.Tensor: shape=(3, 3), dtype=float32, numpy=\n",
              "array([[1.0120728 , 0.52785254, 0.6600685 ],\n",
              "       [1.5480108 , 0.7430504 , 0.8358879 ],\n",
              "       [1.0475017 , 0.57177013, 0.75934607]], dtype=float32)>"
            ]
          },
          "metadata": {},
          "execution_count": 56
        }
      ]
    },
    {
      "cell_type": "markdown",
      "metadata": {
        "id": "ye4RiIjhmYJb"
      },
      "source": [
        "## Indexing"
      ]
    },
    {
      "cell_type": "code",
      "metadata": {
        "id": "vuwq9Veameiy"
      },
      "source": [
        "v = tf.constant([0, 1, 2, 3, 4, 5, 6, 7, 8, 9, 10, 11, 12, 13, 14, 15, 16, 17, 18, 19])"
      ],
      "execution_count": null,
      "outputs": []
    },
    {
      "cell_type": "code",
      "metadata": {
        "colab": {
          "base_uri": "https://localhost:8080/"
        },
        "id": "XIeG22-Omony",
        "outputId": "27517c51-236c-4faf-95c8-5ba583711314"
      },
      "source": [
        "v[4]"
      ],
      "execution_count": null,
      "outputs": [
        {
          "output_type": "execute_result",
          "data": {
            "text/plain": [
              "<tf.Tensor: shape=(), dtype=int32, numpy=4>"
            ]
          },
          "metadata": {},
          "execution_count": 61
        }
      ]
    },
    {
      "cell_type": "code",
      "metadata": {
        "colab": {
          "base_uri": "https://localhost:8080/"
        },
        "id": "ei4QAg_ZmrVC",
        "outputId": "8c643893-0c60-4140-8fb5-905f2ee8d845"
      },
      "source": [
        "v[2:8]"
      ],
      "execution_count": null,
      "outputs": [
        {
          "output_type": "execute_result",
          "data": {
            "text/plain": [
              "<tf.Tensor: shape=(6,), dtype=int32, numpy=array([2, 3, 4, 5, 6, 7], dtype=int32)>"
            ]
          },
          "metadata": {},
          "execution_count": 62
        }
      ]
    },
    {
      "cell_type": "code",
      "metadata": {
        "colab": {
          "base_uri": "https://localhost:8080/"
        },
        "id": "DMmSW1aTmv-5",
        "outputId": "ef12e363-7d19-45e0-e15b-a1b2fe594377"
      },
      "source": [
        "v[2:-1]"
      ],
      "execution_count": null,
      "outputs": [
        {
          "output_type": "execute_result",
          "data": {
            "text/plain": [
              "<tf.Tensor: shape=(17,), dtype=int32, numpy=\n",
              "array([ 2,  3,  4,  5,  6,  7,  8,  9, 10, 11, 12, 13, 14, 15, 16, 17, 18],\n",
              "      dtype=int32)>"
            ]
          },
          "metadata": {},
          "execution_count": 63
        }
      ]
    },
    {
      "cell_type": "code",
      "metadata": {
        "colab": {
          "base_uri": "https://localhost:8080/"
        },
        "id": "L6iyP1MpmyI6",
        "outputId": "d8626e4b-aff6-491e-bfc7-3570f2a98401"
      },
      "source": [
        "v[2::2]"
      ],
      "execution_count": null,
      "outputs": [
        {
          "output_type": "execute_result",
          "data": {
            "text/plain": [
              "<tf.Tensor: shape=(9,), dtype=int32, numpy=array([ 2,  4,  6,  8, 10, 12, 14, 16, 18], dtype=int32)>"
            ]
          },
          "metadata": {},
          "execution_count": 64
        }
      ]
    },
    {
      "cell_type": "code",
      "metadata": {
        "colab": {
          "base_uri": "https://localhost:8080/"
        },
        "id": "skfalBi8m1px",
        "outputId": "0a65a1b7-bf81-429a-88bb-5a8d4406e47e"
      },
      "source": [
        "v[-4:]"
      ],
      "execution_count": null,
      "outputs": [
        {
          "output_type": "execute_result",
          "data": {
            "text/plain": [
              "<tf.Tensor: shape=(4,), dtype=int32, numpy=array([16, 17, 18, 19], dtype=int32)>"
            ]
          },
          "metadata": {},
          "execution_count": 65
        }
      ]
    },
    {
      "cell_type": "code",
      "metadata": {
        "colab": {
          "base_uri": "https://localhost:8080/"
        },
        "id": "nMbvAkMEnAvK",
        "outputId": "0b1f2368-4351-4b20-eaf3-9e803703aee1"
      },
      "source": [
        "v[::-1]"
      ],
      "execution_count": null,
      "outputs": [
        {
          "output_type": "execute_result",
          "data": {
            "text/plain": [
              "<tf.Tensor: shape=(20,), dtype=int32, numpy=\n",
              "array([19, 18, 17, 16, 15, 14, 13, 12, 11, 10,  9,  8,  7,  6,  5,  4,  3,\n",
              "        2,  1,  0], dtype=int32)>"
            ]
          },
          "metadata": {},
          "execution_count": 66
        }
      ]
    },
    {
      "cell_type": "code",
      "metadata": {
        "colab": {
          "base_uri": "https://localhost:8080/"
        },
        "id": "F8AICYnHnHsi",
        "outputId": "e8fc6a65-6115-471d-bb46-7513f7470bfc"
      },
      "source": [
        "tf.gather(v, [4,7,18]) # will get the values of that indices"
      ],
      "execution_count": null,
      "outputs": [
        {
          "output_type": "execute_result",
          "data": {
            "text/plain": [
              "<tf.Tensor: shape=(3,), dtype=int32, numpy=array([ 4,  7, 18], dtype=int32)>"
            ]
          },
          "metadata": {},
          "execution_count": 70
        }
      ]
    },
    {
      "cell_type": "markdown",
      "metadata": {
        "id": "VuiOoHGBnv0c"
      },
      "source": [
        "## Reshaping"
      ]
    },
    {
      "cell_type": "code",
      "metadata": {
        "id": "YqLvpp26nPTi"
      },
      "source": [
        "x = tf.range(9)"
      ],
      "execution_count": null,
      "outputs": []
    },
    {
      "cell_type": "code",
      "metadata": {
        "colab": {
          "base_uri": "https://localhost:8080/"
        },
        "id": "UVzUkzN2n0oJ",
        "outputId": "fe1977c0-c84b-46d8-ebbc-675b1ab88a90"
      },
      "source": [
        "tf.reshape(x, (3,3))"
      ],
      "execution_count": null,
      "outputs": [
        {
          "output_type": "execute_result",
          "data": {
            "text/plain": [
              "<tf.Tensor: shape=(3, 3), dtype=int32, numpy=\n",
              "array([[0, 1, 2],\n",
              "       [3, 4, 5],\n",
              "       [6, 7, 8]], dtype=int32)>"
            ]
          },
          "metadata": {},
          "execution_count": 74
        }
      ]
    },
    {
      "cell_type": "code",
      "metadata": {
        "colab": {
          "base_uri": "https://localhost:8080/"
        },
        "id": "lQO_CKAon1ZC",
        "outputId": "8ff94349-8153-4c17-bf43-99fdb3eb394d"
      },
      "source": [
        "tf.transpose(tf.reshape(x, (3,3))) # transpose"
      ],
      "execution_count": null,
      "outputs": [
        {
          "output_type": "execute_result",
          "data": {
            "text/plain": [
              "<tf.Tensor: shape=(3, 3), dtype=int32, numpy=\n",
              "array([[0, 3, 6],\n",
              "       [1, 4, 7],\n",
              "       [2, 5, 8]], dtype=int32)>"
            ]
          },
          "metadata": {},
          "execution_count": 75
        }
      ]
    },
    {
      "cell_type": "markdown",
      "metadata": {
        "id": "hxkkKMEqoiOr"
      },
      "source": [
        "# NN with sequential and functional API"
      ]
    },
    {
      "cell_type": "markdown",
      "metadata": {
        "id": "D7qtQW0xvwVX"
      },
      "source": [
        "## Sequential"
      ]
    },
    {
      "cell_type": "code",
      "metadata": {
        "id": "-ubN3G1doG-K"
      },
      "source": [
        "learning_rate = 0.001\n",
        "(X_train, y_train), (X_test, y_test) = mnist.load_data()"
      ],
      "execution_count": 33,
      "outputs": []
    },
    {
      "cell_type": "code",
      "metadata": {
        "colab": {
          "base_uri": "https://localhost:8080/"
        },
        "id": "74J1wPl8o0yO",
        "outputId": "08e2ec34-38bd-44be-aab8-ae56a6df22ff"
      },
      "source": [
        "X_train.shape"
      ],
      "execution_count": 7,
      "outputs": [
        {
          "output_type": "execute_result",
          "data": {
            "text/plain": [
              "(60000, 28, 28)"
            ]
          },
          "metadata": {},
          "execution_count": 7
        }
      ]
    },
    {
      "cell_type": "code",
      "metadata": {
        "colab": {
          "base_uri": "https://localhost:8080/"
        },
        "id": "XxosAnqYpJyr",
        "outputId": "c0f9051c-d610-4aff-c5fe-6aab39217db4"
      },
      "source": [
        "X_train[0] # values are in the range of 0-255 we need to normalize the data to 0-1 by dividing by 255"
      ],
      "execution_count": 9,
      "outputs": [
        {
          "output_type": "execute_result",
          "data": {
            "text/plain": [
              "array([[  0,   0,   0,   0,   0,   0,   0,   0,   0,   0,   0,   0,   0,\n",
              "          0,   0,   0,   0,   0,   0,   0,   0,   0,   0,   0,   0,   0,\n",
              "          0,   0],\n",
              "       [  0,   0,   0,   0,   0,   0,   0,   0,   0,   0,   0,   0,   0,\n",
              "          0,   0,   0,   0,   0,   0,   0,   0,   0,   0,   0,   0,   0,\n",
              "          0,   0],\n",
              "       [  0,   0,   0,   0,   0,   0,   0,   0,   0,   0,   0,   0,   0,\n",
              "          0,   0,   0,   0,   0,   0,   0,   0,   0,   0,   0,   0,   0,\n",
              "          0,   0],\n",
              "       [  0,   0,   0,   0,   0,   0,   0,   0,   0,   0,   0,   0,   0,\n",
              "          0,   0,   0,   0,   0,   0,   0,   0,   0,   0,   0,   0,   0,\n",
              "          0,   0],\n",
              "       [  0,   0,   0,   0,   0,   0,   0,   0,   0,   0,   0,   0,   0,\n",
              "          0,   0,   0,   0,   0,   0,   0,   0,   0,   0,   0,   0,   0,\n",
              "          0,   0],\n",
              "       [  0,   0,   0,   0,   0,   0,   0,   0,   0,   0,   0,   0,   3,\n",
              "         18,  18,  18, 126, 136, 175,  26, 166, 255, 247, 127,   0,   0,\n",
              "          0,   0],\n",
              "       [  0,   0,   0,   0,   0,   0,   0,   0,  30,  36,  94, 154, 170,\n",
              "        253, 253, 253, 253, 253, 225, 172, 253, 242, 195,  64,   0,   0,\n",
              "          0,   0],\n",
              "       [  0,   0,   0,   0,   0,   0,   0,  49, 238, 253, 253, 253, 253,\n",
              "        253, 253, 253, 253, 251,  93,  82,  82,  56,  39,   0,   0,   0,\n",
              "          0,   0],\n",
              "       [  0,   0,   0,   0,   0,   0,   0,  18, 219, 253, 253, 253, 253,\n",
              "        253, 198, 182, 247, 241,   0,   0,   0,   0,   0,   0,   0,   0,\n",
              "          0,   0],\n",
              "       [  0,   0,   0,   0,   0,   0,   0,   0,  80, 156, 107, 253, 253,\n",
              "        205,  11,   0,  43, 154,   0,   0,   0,   0,   0,   0,   0,   0,\n",
              "          0,   0],\n",
              "       [  0,   0,   0,   0,   0,   0,   0,   0,   0,  14,   1, 154, 253,\n",
              "         90,   0,   0,   0,   0,   0,   0,   0,   0,   0,   0,   0,   0,\n",
              "          0,   0],\n",
              "       [  0,   0,   0,   0,   0,   0,   0,   0,   0,   0,   0, 139, 253,\n",
              "        190,   2,   0,   0,   0,   0,   0,   0,   0,   0,   0,   0,   0,\n",
              "          0,   0],\n",
              "       [  0,   0,   0,   0,   0,   0,   0,   0,   0,   0,   0,  11, 190,\n",
              "        253,  70,   0,   0,   0,   0,   0,   0,   0,   0,   0,   0,   0,\n",
              "          0,   0],\n",
              "       [  0,   0,   0,   0,   0,   0,   0,   0,   0,   0,   0,   0,  35,\n",
              "        241, 225, 160, 108,   1,   0,   0,   0,   0,   0,   0,   0,   0,\n",
              "          0,   0],\n",
              "       [  0,   0,   0,   0,   0,   0,   0,   0,   0,   0,   0,   0,   0,\n",
              "         81, 240, 253, 253, 119,  25,   0,   0,   0,   0,   0,   0,   0,\n",
              "          0,   0],\n",
              "       [  0,   0,   0,   0,   0,   0,   0,   0,   0,   0,   0,   0,   0,\n",
              "          0,  45, 186, 253, 253, 150,  27,   0,   0,   0,   0,   0,   0,\n",
              "          0,   0],\n",
              "       [  0,   0,   0,   0,   0,   0,   0,   0,   0,   0,   0,   0,   0,\n",
              "          0,   0,  16,  93, 252, 253, 187,   0,   0,   0,   0,   0,   0,\n",
              "          0,   0],\n",
              "       [  0,   0,   0,   0,   0,   0,   0,   0,   0,   0,   0,   0,   0,\n",
              "          0,   0,   0,   0, 249, 253, 249,  64,   0,   0,   0,   0,   0,\n",
              "          0,   0],\n",
              "       [  0,   0,   0,   0,   0,   0,   0,   0,   0,   0,   0,   0,   0,\n",
              "          0,  46, 130, 183, 253, 253, 207,   2,   0,   0,   0,   0,   0,\n",
              "          0,   0],\n",
              "       [  0,   0,   0,   0,   0,   0,   0,   0,   0,   0,   0,   0,  39,\n",
              "        148, 229, 253, 253, 253, 250, 182,   0,   0,   0,   0,   0,   0,\n",
              "          0,   0],\n",
              "       [  0,   0,   0,   0,   0,   0,   0,   0,   0,   0,  24, 114, 221,\n",
              "        253, 253, 253, 253, 201,  78,   0,   0,   0,   0,   0,   0,   0,\n",
              "          0,   0],\n",
              "       [  0,   0,   0,   0,   0,   0,   0,   0,  23,  66, 213, 253, 253,\n",
              "        253, 253, 198,  81,   2,   0,   0,   0,   0,   0,   0,   0,   0,\n",
              "          0,   0],\n",
              "       [  0,   0,   0,   0,   0,   0,  18, 171, 219, 253, 253, 253, 253,\n",
              "        195,  80,   9,   0,   0,   0,   0,   0,   0,   0,   0,   0,   0,\n",
              "          0,   0],\n",
              "       [  0,   0,   0,   0,  55, 172, 226, 253, 253, 253, 253, 244, 133,\n",
              "         11,   0,   0,   0,   0,   0,   0,   0,   0,   0,   0,   0,   0,\n",
              "          0,   0],\n",
              "       [  0,   0,   0,   0, 136, 253, 253, 253, 212, 135, 132,  16,   0,\n",
              "          0,   0,   0,   0,   0,   0,   0,   0,   0,   0,   0,   0,   0,\n",
              "          0,   0],\n",
              "       [  0,   0,   0,   0,   0,   0,   0,   0,   0,   0,   0,   0,   0,\n",
              "          0,   0,   0,   0,   0,   0,   0,   0,   0,   0,   0,   0,   0,\n",
              "          0,   0],\n",
              "       [  0,   0,   0,   0,   0,   0,   0,   0,   0,   0,   0,   0,   0,\n",
              "          0,   0,   0,   0,   0,   0,   0,   0,   0,   0,   0,   0,   0,\n",
              "          0,   0],\n",
              "       [  0,   0,   0,   0,   0,   0,   0,   0,   0,   0,   0,   0,   0,\n",
              "          0,   0,   0,   0,   0,   0,   0,   0,   0,   0,   0,   0,   0,\n",
              "          0,   0]], dtype=uint8)"
            ]
          },
          "metadata": {},
          "execution_count": 9
        }
      ]
    },
    {
      "cell_type": "code",
      "metadata": {
        "id": "NRtPjDSGw-oQ"
      },
      "source": [
        "data_shape = X_train.shape[1]*X_train.shape[2] # 28x28 -> 784 here"
      ],
      "execution_count": 35,
      "outputs": []
    },
    {
      "cell_type": "code",
      "metadata": {
        "id": "B6zvzw-Zo2Vp"
      },
      "source": [
        "# to send the neural we need flatten the image from 28 x 28 to 784\n",
        "X_train = X_train.reshape(-1,data_shape).astype(\"float32\") / 255.0\n",
        "X_test = X_test.reshape(-1,data_shape).astype(\"float32\") / 255.0"
      ],
      "execution_count": 45,
      "outputs": []
    },
    {
      "cell_type": "markdown",
      "metadata": {
        "id": "Vb6gHf44pzRG"
      },
      "source": [
        "we need to convert above values to tennsor with tf.convert_to_tensor(X_train) but since its a numpy array we need to do that tensorflow automatically deals that"
      ]
    },
    {
      "cell_type": "code",
      "metadata": {
        "id": "SZOPPz5tpuzB"
      },
      "source": [
        "# model = Sequential([\n",
        "#                     keras.Input(shape=(data_shape)),\n",
        "#                     layers.Dense(512, activation='relu'),\n",
        "#                     layers.Dense(256, activation='relu'),\n",
        "#                     layers.Dense(10)\n",
        "# ])"
      ],
      "execution_count": 59,
      "outputs": []
    },
    {
      "cell_type": "code",
      "metadata": {
        "id": "7zQNnAfvvJ7F"
      },
      "source": [
        "# the above acan also be written like this by adding line by line to model\n",
        "model = Sequential()\n",
        "model.add(keras.Input(shape=(data_shape)))\n",
        "model.add(layers.Dense(512, activation='relu'))\n",
        "model.add(layers.Dense(256, activation='relu', name='second_layer'))\n",
        "model.add(layers.Dense(10))\n",
        "# with this we can debug by puttig model.summary() in between of this."
      ],
      "execution_count": 82,
      "outputs": []
    },
    {
      "cell_type": "markdown",
      "metadata": {
        "id": "GwfpckEIqmTJ"
      },
      "source": [
        "In above if you want to create one input and output we can go for sequential api. sequential is convenient but not flexiable."
      ]
    },
    {
      "cell_type": "code",
      "metadata": {
        "colab": {
          "base_uri": "https://localhost:8080/"
        },
        "id": "f6y-zTTqujGX",
        "outputId": "1e36a386-e7c2-4531-90f9-c680449b5332"
      },
      "source": [
        "model.summary()"
      ],
      "execution_count": 63,
      "outputs": [
        {
          "output_type": "stream",
          "name": "stdout",
          "text": [
            "Model: \"sequential_7\"\n",
            "_________________________________________________________________\n",
            "Layer (type)                 Output Shape              Param #   \n",
            "=================================================================\n",
            "dense_34 (Dense)             (None, 512)               401920    \n",
            "_________________________________________________________________\n",
            "dense_35 (Dense)             (None, 256)               131328    \n",
            "_________________________________________________________________\n",
            "dense_36 (Dense)             (None, 10)                2570      \n",
            "=================================================================\n",
            "Total params: 535,818\n",
            "Trainable params: 535,818\n",
            "Non-trainable params: 0\n",
            "_________________________________________________________________\n"
          ]
        }
      ]
    },
    {
      "cell_type": "code",
      "metadata": {
        "colab": {
          "base_uri": "https://localhost:8080/"
        },
        "id": "8O4fn0G003CT",
        "outputId": "1ddc5cca-120b-41a6-d5e2-7beb47f137ea"
      },
      "source": [
        "# debugging tips\n",
        "# model = keras.Model(inputs=model.inputs, outputs=[model.layers[-2].output]) # or\n",
        "# # model = keras.Model(inputs=model.inputs, outputs=[model.get_layer('second_layer').output])\n",
        "# feature = model.predict(X_train)\n",
        "# feature.shape"
      ],
      "execution_count": 83,
      "outputs": [
        {
          "output_type": "execute_result",
          "data": {
            "text/plain": [
              "(60000, 256)"
            ]
          },
          "metadata": {},
          "execution_count": 83
        }
      ]
    },
    {
      "cell_type": "code",
      "metadata": {
        "colab": {
          "base_uri": "https://localhost:8080/"
        },
        "id": "4kdfF8b_4qGE",
        "outputId": "8c48f0a0-607f-4aff-e4bf-80b898528ced"
      },
      "source": [
        "# debugging tips\n",
        "# model = keras.Model(inputs=model.inputs, outputs=[layer.output for layer in model.layers]) \n",
        "# features = model.predict(X_train)\n",
        "# print([feature.shape for feature in features])"
      ],
      "execution_count": 88,
      "outputs": [
        {
          "output_type": "stream",
          "name": "stdout",
          "text": [
            "[(60000, 784), (60000, 512), (60000, 256)]\n"
          ]
        }
      ]
    },
    {
      "cell_type": "code",
      "metadata": {
        "id": "Xa4Adoiwqt34"
      },
      "source": [
        "model.compile(\n",
        "    loss=keras.losses.SparseCategoricalCrossentropy(from_logits=True),\n",
        "    optimizer=keras.optimizers.Adam(learning_rate),\n",
        "    metrics=['accuracy']\n",
        ")"
      ],
      "execution_count": 55,
      "outputs": []
    },
    {
      "cell_type": "code",
      "metadata": {
        "colab": {
          "base_uri": "https://localhost:8080/"
        },
        "id": "3HE9wq73tOhY",
        "outputId": "98e493fa-e917-4433-d0cc-df24f62428a3"
      },
      "source": [
        "model.fit(X_train, y_train, batch_size=32, epochs=5, verbose=2)"
      ],
      "execution_count": 56,
      "outputs": [
        {
          "output_type": "stream",
          "name": "stdout",
          "text": [
            "Epoch 1/5\n",
            "1875/1875 - 4s - loss: 0.1883 - accuracy: 0.9438\n",
            "Epoch 2/5\n",
            "1875/1875 - 3s - loss: 0.0806 - accuracy: 0.9747\n",
            "Epoch 3/5\n",
            "1875/1875 - 3s - loss: 0.0562 - accuracy: 0.9826\n",
            "Epoch 4/5\n",
            "1875/1875 - 3s - loss: 0.0406 - accuracy: 0.9873\n",
            "Epoch 5/5\n",
            "1875/1875 - 3s - loss: 0.0326 - accuracy: 0.9895\n"
          ]
        },
        {
          "output_type": "execute_result",
          "data": {
            "text/plain": [
              "<keras.callbacks.History at 0x7fc8e4ab9c10>"
            ]
          },
          "metadata": {},
          "execution_count": 56
        }
      ]
    },
    {
      "cell_type": "code",
      "metadata": {
        "colab": {
          "base_uri": "https://localhost:8080/"
        },
        "id": "Xbesu17HtqOG",
        "outputId": "9a3cae30-77b8-4abf-fd16-64e08048ff67"
      },
      "source": [
        "model.evaluate(X_test, y_test, batch_size=32, verbose=2)"
      ],
      "execution_count": 24,
      "outputs": [
        {
          "output_type": "stream",
          "name": "stdout",
          "text": [
            "313/313 - 1s - loss: 0.0834 - accuracy: 0.9787\n"
          ]
        },
        {
          "output_type": "execute_result",
          "data": {
            "text/plain": [
              "[0.08339928835630417, 0.9786999821662903]"
            ]
          },
          "metadata": {},
          "execution_count": 24
        }
      ]
    },
    {
      "cell_type": "markdown",
      "metadata": {
        "id": "oJhViEfUv3Q4"
      },
      "source": [
        "## Functional"
      ]
    },
    {
      "cell_type": "markdown",
      "metadata": {
        "id": "uMl-sOJ0wfxf"
      },
      "source": [
        "Funtional allow us to input multiple inputs and get multiple outputs. essentially softmax could be one of the output activation function. where as the previous sequential takes one input and gives one output."
      ]
    },
    {
      "cell_type": "code",
      "metadata": {
        "id": "yuDotu61t5ot"
      },
      "source": [
        "inputs = keras.Input(shape = (data_shape))\n",
        "x = layers.Dense(512, activation='relu', name='first_layer')(inputs)\n",
        "x = layers.Dense(256, activation='relu', name='second_layer')(x)\n",
        "outputs = layers.Dense(10, activation='softmax', name='output_layer')(x)\n",
        "model = keras.Model(inputs=inputs, outputs=outputs) # note its Model"
      ],
      "execution_count": 49,
      "outputs": []
    },
    {
      "cell_type": "code",
      "metadata": {
        "colab": {
          "base_uri": "https://localhost:8080/"
        },
        "id": "spWT4-1m0XJJ",
        "outputId": "492ac7a4-9068-4061-feeb-2059fb31510e"
      },
      "source": [
        "model.summary()"
      ],
      "execution_count": 50,
      "outputs": [
        {
          "output_type": "stream",
          "name": "stdout",
          "text": [
            "Model: \"model_2\"\n",
            "_________________________________________________________________\n",
            "Layer (type)                 Output Shape              Param #   \n",
            "=================================================================\n",
            "input_8 (InputLayer)         [(None, 784)]             0         \n",
            "_________________________________________________________________\n",
            "first_layer (Dense)          (None, 512)               401920    \n",
            "_________________________________________________________________\n",
            "second_layer (Dense)         (None, 256)               131328    \n",
            "_________________________________________________________________\n",
            "output_layer (Dense)         (None, 10)                2570      \n",
            "=================================================================\n",
            "Total params: 535,818\n",
            "Trainable params: 535,818\n",
            "Non-trainable params: 0\n",
            "_________________________________________________________________\n"
          ]
        }
      ]
    },
    {
      "cell_type": "code",
      "metadata": {
        "id": "_LNmxFSUzhzH"
      },
      "source": [
        "model.compile(\n",
        "    loss=keras.losses.SparseCategoricalCrossentropy(from_logits=True),\n",
        "    optimizer=keras.optimizers.Adam(learning_rate),\n",
        "    metrics=['accuracy']\n",
        ")"
      ],
      "execution_count": 46,
      "outputs": []
    },
    {
      "cell_type": "code",
      "metadata": {
        "colab": {
          "base_uri": "https://localhost:8080/"
        },
        "id": "m5vTNM0qzqnU",
        "outputId": "5dd7ad67-48fe-469d-fdb4-23db857aa0a8"
      },
      "source": [
        "model.fit(X_train, y_train, batch_size=32, epochs=5, verbose=2)"
      ],
      "execution_count": 47,
      "outputs": [
        {
          "output_type": "stream",
          "name": "stdout",
          "text": [
            "Epoch 1/5\n"
          ]
        },
        {
          "output_type": "stream",
          "name": "stderr",
          "text": [
            "/usr/local/lib/python3.7/dist-packages/keras/backend.py:4907: UserWarning: \"`sparse_categorical_crossentropy` received `from_logits=True`, but the `output` argument was produced by a sigmoid or softmax activation and thus does not represent logits. Was this intended?\"\n",
            "  '\"`sparse_categorical_crossentropy` received `from_logits=True`, but '\n"
          ]
        },
        {
          "output_type": "stream",
          "name": "stdout",
          "text": [
            "1875/1875 - 4s - loss: 0.1852 - accuracy: 0.9429\n",
            "Epoch 2/5\n",
            "1875/1875 - 3s - loss: 0.0806 - accuracy: 0.9749\n",
            "Epoch 3/5\n",
            "1875/1875 - 3s - loss: 0.0552 - accuracy: 0.9831\n",
            "Epoch 4/5\n",
            "1875/1875 - 3s - loss: 0.0405 - accuracy: 0.9869\n",
            "Epoch 5/5\n",
            "1875/1875 - 3s - loss: 0.0327 - accuracy: 0.9887\n"
          ]
        },
        {
          "output_type": "execute_result",
          "data": {
            "text/plain": [
              "<keras.callbacks.History at 0x7fc8e4e5fdd0>"
            ]
          },
          "metadata": {},
          "execution_count": 47
        }
      ]
    },
    {
      "cell_type": "code",
      "metadata": {
        "colab": {
          "base_uri": "https://localhost:8080/"
        },
        "id": "DsEr8DqEzxC4",
        "outputId": "2fd5af5f-85c7-4598-debb-bddd7a8abbfe"
      },
      "source": [
        "model.evaluate(X_test, y_test, batch_size=32, verbose=2)"
      ],
      "execution_count": 48,
      "outputs": [
        {
          "output_type": "stream",
          "name": "stderr",
          "text": [
            "/usr/local/lib/python3.7/dist-packages/keras/backend.py:4907: UserWarning: \"`sparse_categorical_crossentropy` received `from_logits=True`, but the `output` argument was produced by a sigmoid or softmax activation and thus does not represent logits. Was this intended?\"\n",
            "  '\"`sparse_categorical_crossentropy` received `from_logits=True`, but '\n"
          ]
        },
        {
          "output_type": "stream",
          "name": "stdout",
          "text": [
            "313/313 - 1s - loss: 0.0761 - accuracy: 0.9796\n"
          ]
        },
        {
          "output_type": "execute_result",
          "data": {
            "text/plain": [
              "[0.0760573297739029, 0.9796000123023987]"
            ]
          },
          "metadata": {},
          "execution_count": 48
        }
      ]
    },
    {
      "cell_type": "code",
      "metadata": {
        "id": "34lL7aazz7A_"
      },
      "source": [
        ""
      ],
      "execution_count": null,
      "outputs": []
    }
  ]
}