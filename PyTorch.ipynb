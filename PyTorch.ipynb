{
  "nbformat": 4,
  "nbformat_minor": 0,
  "metadata": {
    "colab": {
      "name": "PyTorch.ipynb",
      "provenance": [],
      "collapsed_sections": [],
      "toc_visible": true,
      "authorship_tag": "ABX9TyNmK4z71XoQD4qWxm7xapzm",
      "include_colab_link": true
    },
    "kernelspec": {
      "name": "python3",
      "display_name": "Python 3"
    },
    "language_info": {
      "name": "python"
    },
    "accelerator": "GPU"
  },
  "cells": [
    {
      "cell_type": "markdown",
      "metadata": {
        "id": "view-in-github",
        "colab_type": "text"
      },
      "source": [
        "<a href=\"https://colab.research.google.com/github/arunmozhidevan/Hands-on/blob/main/PyTorch.ipynb\" target=\"_parent\"><img src=\"https://colab.research.google.com/assets/colab-badge.svg\" alt=\"Open In Colab\"/></a>"
      ]
    },
    {
      "cell_type": "code",
      "execution_count": 1,
      "metadata": {
        "id": "brBW5gpn3swA"
      },
      "outputs": [],
      "source": [
        "import numpy as np\n",
        "import torch\n",
        "import torch.nn as nn\n",
        "from torchvision import datasets\n",
        "from torchvision.transforms import ToTensor"
      ]
    },
    {
      "cell_type": "markdown",
      "source": [
        "# Tensor Basics"
      ],
      "metadata": {
        "id": "Df0WG7MKxbfh"
      }
    },
    {
      "cell_type": "markdown",
      "source": [
        "## creating an empty and random tensor"
      ],
      "metadata": {
        "id": "ljKnLtsNU0TW"
      }
    },
    {
      "cell_type": "code",
      "source": [
        "torch.empty(2,2,2,2)"
      ],
      "metadata": {
        "id": "bWVX4Y2I361A",
        "colab": {
          "base_uri": "https://localhost:8080/"
        },
        "outputId": "af9e5fcc-0e75-4add-d1a8-fc5527c44084"
      },
      "execution_count": null,
      "outputs": [
        {
          "output_type": "execute_result",
          "data": {
            "text/plain": [
              "tensor([[[[6.6446e+23, 3.0634e-41],\n",
              "          [5.0447e-44, 0.0000e+00]],\n",
              "\n",
              "         [[       nan, 0.0000e+00],\n",
              "          [1.3235e-14, 3.6423e-06]]],\n",
              "\n",
              "\n",
              "        [[[0.0000e+00, 0.0000e+00],\n",
              "          [0.0000e+00, 0.0000e+00]],\n",
              "\n",
              "         [[0.0000e+00, 0.0000e+00],\n",
              "          [0.0000e+00, 0.0000e+00]]]])"
            ]
          },
          "metadata": {},
          "execution_count": 5
        }
      ]
    },
    {
      "cell_type": "code",
      "source": [
        "torch.rand(2,2) # random 2x2 matrix"
      ],
      "metadata": {
        "colab": {
          "base_uri": "https://localhost:8080/"
        },
        "id": "afqGGCEj94d8",
        "outputId": "1d1a88d1-8357-4f1d-e9c1-bf395d27e356"
      },
      "execution_count": null,
      "outputs": [
        {
          "output_type": "execute_result",
          "data": {
            "text/plain": [
              "tensor([[0.1968, 0.0646],\n",
              "        [0.8213, 0.6159]])"
            ]
          },
          "metadata": {},
          "execution_count": 6
        }
      ]
    },
    {
      "cell_type": "code",
      "source": [
        "torch.zeros(2,2) # zero 2x2 matrix"
      ],
      "metadata": {
        "colab": {
          "base_uri": "https://localhost:8080/"
        },
        "id": "H8qe9BV597VS",
        "outputId": "b0646072-5260-460b-e309-e1619c2d5559"
      },
      "execution_count": null,
      "outputs": [
        {
          "output_type": "execute_result",
          "data": {
            "text/plain": [
              "tensor([[0., 0.],\n",
              "        [0., 0.]])"
            ]
          },
          "metadata": {},
          "execution_count": 7
        }
      ]
    },
    {
      "cell_type": "code",
      "source": [
        "torch.ones(2,2)# 2x2 matrix of ones"
      ],
      "metadata": {
        "colab": {
          "base_uri": "https://localhost:8080/"
        },
        "id": "Mea_CMRN9-7P",
        "outputId": "63aa3cba-ffec-4957-8ca1-7bb79ab8a4b3"
      },
      "execution_count": null,
      "outputs": [
        {
          "output_type": "execute_result",
          "data": {
            "text/plain": [
              "tensor([[1., 1.],\n",
              "        [1., 1.]])"
            ]
          },
          "metadata": {},
          "execution_count": 8
        }
      ]
    },
    {
      "cell_type": "code",
      "source": [
        "torch.ones(2,2, dtype=torch.int16)"
      ],
      "metadata": {
        "colab": {
          "base_uri": "https://localhost:8080/"
        },
        "id": "jnZJnKvX-BPU",
        "outputId": "bdd0ce53-0f55-458c-b7c9-50c850c8df9e"
      },
      "execution_count": null,
      "outputs": [
        {
          "output_type": "execute_result",
          "data": {
            "text/plain": [
              "tensor([[1, 1],\n",
              "        [1, 1]], dtype=torch.int16)"
            ]
          },
          "metadata": {},
          "execution_count": 10
        }
      ]
    },
    {
      "cell_type": "code",
      "source": [
        "torch.ones(2,2, requires_grad=True) # requires_grad - by default this will be true, if it's switched True it requires gradient while calculating "
      ],
      "metadata": {
        "id": "XXsDXKVmTv7_"
      },
      "execution_count": null,
      "outputs": []
    },
    {
      "cell_type": "code",
      "source": [
        "torch.tensor([2,2]), type(torch.tensor([2,2]))"
      ],
      "metadata": {
        "colab": {
          "base_uri": "https://localhost:8080/"
        },
        "id": "oeVIZgJY-Kda",
        "outputId": "6e912dc1-cbae-4240-82da-690cdeb029c3"
      },
      "execution_count": null,
      "outputs": [
        {
          "output_type": "execute_result",
          "data": {
            "text/plain": [
              "(tensor([2, 2]), torch.Tensor)"
            ]
          },
          "metadata": {},
          "execution_count": 14
        }
      ]
    },
    {
      "cell_type": "code",
      "source": [
        "x, y = torch.rand(2,2), torch.rand(2,2)"
      ],
      "metadata": {
        "id": "YnCqHVBN-Nsb"
      },
      "execution_count": null,
      "outputs": []
    },
    {
      "cell_type": "code",
      "source": [
        "# slicing\n",
        "x = torch.rand(6,6)\n",
        "print(x) # orginal matrix\n",
        "print(x[1:3,1:3]) # sliced matrix"
      ],
      "metadata": {
        "colab": {
          "base_uri": "https://localhost:8080/"
        },
        "id": "sMIEcP97-hhM",
        "outputId": "dea877bf-8118-4a10-9ec9-a15f332b403f"
      },
      "execution_count": null,
      "outputs": [
        {
          "output_type": "stream",
          "name": "stdout",
          "text": [
            "tensor([[0.2846, 0.9256, 0.7338, 0.9000, 0.9782, 0.8665],\n",
            "        [0.7942, 0.8119, 0.6378, 0.1246, 0.3377, 0.5770],\n",
            "        [0.0018, 0.0938, 0.1261, 0.0307, 0.2735, 0.8441],\n",
            "        [0.0804, 0.9723, 0.1766, 0.2326, 0.4107, 0.4854],\n",
            "        [0.6609, 0.6049, 0.7470, 0.4324, 0.3718, 0.3989],\n",
            "        [0.9984, 0.1094, 0.7216, 0.3985, 0.2536, 0.2307]])\n",
            "tensor([[0.8119, 0.6378],\n",
            "        [0.0938, 0.1261]])\n"
          ]
        }
      ]
    },
    {
      "cell_type": "markdown",
      "source": [
        "## slicing the tensor"
      ],
      "metadata": {
        "id": "WouSvjcTTjuE"
      }
    },
    {
      "cell_type": "code",
      "source": [
        "x.view(-1,2) # if -1 is specified torch will compute on its own return approriate values based on the matirx size"
      ],
      "metadata": {
        "colab": {
          "base_uri": "https://localhost:8080/"
        },
        "id": "WjFhkQLd_MA2",
        "outputId": "1de4fcf9-1601-4c8d-be72-16215ca3f60e"
      },
      "execution_count": null,
      "outputs": [
        {
          "output_type": "execute_result",
          "data": {
            "text/plain": [
              "tensor([[0.2846, 0.9256],\n",
              "        [0.7338, 0.9000],\n",
              "        [0.9782, 0.8665],\n",
              "        [0.7942, 0.8119],\n",
              "        [0.6378, 0.1246],\n",
              "        [0.3377, 0.5770],\n",
              "        [0.0018, 0.0938],\n",
              "        [0.1261, 0.0307],\n",
              "        [0.2735, 0.8441],\n",
              "        [0.0804, 0.9723],\n",
              "        [0.1766, 0.2326],\n",
              "        [0.4107, 0.4854],\n",
              "        [0.6609, 0.6049],\n",
              "        [0.7470, 0.4324],\n",
              "        [0.3718, 0.3989],\n",
              "        [0.9984, 0.1094],\n",
              "        [0.7216, 0.3985],\n",
              "        [0.2536, 0.2307]])"
            ]
          },
          "metadata": {},
          "execution_count": 29
        }
      ]
    },
    {
      "cell_type": "code",
      "source": [
        "x.view(36) # one dimention array"
      ],
      "metadata": {
        "colab": {
          "base_uri": "https://localhost:8080/"
        },
        "id": "lmto4MN1ALA7",
        "outputId": "b6dc5bd9-20bc-4507-8a59-69bf6138d7fd"
      },
      "execution_count": null,
      "outputs": [
        {
          "output_type": "execute_result",
          "data": {
            "text/plain": [
              "tensor([0.2846, 0.9256, 0.7338, 0.9000, 0.9782, 0.8665, 0.7942, 0.8119, 0.6378,\n",
              "        0.1246, 0.3377, 0.5770, 0.0018, 0.0938, 0.1261, 0.0307, 0.2735, 0.8441,\n",
              "        0.0804, 0.9723, 0.1766, 0.2326, 0.4107, 0.4854, 0.6609, 0.6049, 0.7470,\n",
              "        0.4324, 0.3718, 0.3989, 0.9984, 0.1094, 0.7216, 0.3985, 0.2536, 0.2307])"
            ]
          },
          "metadata": {},
          "execution_count": 30
        }
      ]
    },
    {
      "cell_type": "code",
      "source": [
        "a = torch.ones(5)"
      ],
      "metadata": {
        "id": "e5sIJsuMARSv"
      },
      "execution_count": null,
      "outputs": []
    },
    {
      "cell_type": "markdown",
      "source": [
        "## Casting tensor to numpy"
      ],
      "metadata": {
        "id": "QyqB4A0tISZu"
      }
    },
    {
      "cell_type": "code",
      "source": [
        "a.numpy(), type(a.numpy()) #this will change into numpy array"
      ],
      "metadata": {
        "colab": {
          "base_uri": "https://localhost:8080/"
        },
        "id": "lgnrp4JQH2kg",
        "outputId": "2aaa33ed-8e21-46bc-aa90-d60aa474d43b"
      },
      "execution_count": null,
      "outputs": [
        {
          "output_type": "execute_result",
          "data": {
            "text/plain": [
              "(array([1., 1., 1., 1., 1.], dtype=float32), numpy.ndarray)"
            ]
          },
          "metadata": {},
          "execution_count": 35
        }
      ]
    },
    {
      "cell_type": "markdown",
      "source": [
        "**Caution:** If both tensor(should be in gpu in case of gpu computaion) and numpy in the cpu then both will share memory.\n",
        "\n",
        "which means if you change/operate on one variable other variable also change due to share in memory"
      ],
      "metadata": {
        "id": "p3O2aGftH1Gt"
      }
    },
    {
      "cell_type": "markdown",
      "source": [
        "## Casting numpy to tensor "
      ],
      "metadata": {
        "id": "vhvkrUKxI4Y5"
      }
    },
    {
      "cell_type": "code",
      "source": [
        "b = a.numpy()\n",
        "b, type(b)"
      ],
      "metadata": {
        "colab": {
          "base_uri": "https://localhost:8080/"
        },
        "id": "kcUs9ANOIxD1",
        "outputId": "f1fcd51f-a7cb-477b-8e56-31719cc2480e"
      },
      "execution_count": null,
      "outputs": [
        {
          "output_type": "execute_result",
          "data": {
            "text/plain": [
              "(array([1., 1., 1., 1., 1.], dtype=float32), numpy.ndarray)"
            ]
          },
          "metadata": {},
          "execution_count": 37
        }
      ]
    },
    {
      "cell_type": "code",
      "source": [
        "torch.from_numpy(b) # to cast from array to tensor"
      ],
      "metadata": {
        "colab": {
          "base_uri": "https://localhost:8080/"
        },
        "id": "b_C77qrBI6Ga",
        "outputId": "e95cdde4-4fb6-46e5-e5ac-a8d453c2a7f8"
      },
      "execution_count": null,
      "outputs": [
        {
          "output_type": "execute_result",
          "data": {
            "text/plain": [
              "tensor([1., 1., 1., 1., 1.])"
            ]
          },
          "metadata": {},
          "execution_count": 38
        }
      ]
    },
    {
      "cell_type": "markdown",
      "source": [
        "## GPU processing in torch"
      ],
      "metadata": {
        "id": "zg_PeqFARWqv"
      }
    },
    {
      "cell_type": "code",
      "source": [
        "torch.cuda.is_available() # to check the availablity of GPU"
      ],
      "metadata": {
        "colab": {
          "base_uri": "https://localhost:8080/"
        },
        "id": "8t13dH6GJQUE",
        "outputId": "efa97d13-76cd-49d3-f42b-52797e734a2d"
      },
      "execution_count": null,
      "outputs": [
        {
          "output_type": "execute_result",
          "data": {
            "text/plain": [
              "True"
            ]
          },
          "metadata": {},
          "execution_count": 2
        }
      ]
    },
    {
      "cell_type": "code",
      "source": [
        "device = torch.device('cuda') # to run in cuda\n",
        "a_ = a.to(device)"
      ],
      "metadata": {
        "id": "Saet5Z3LScN2"
      },
      "execution_count": null,
      "outputs": []
    },
    {
      "cell_type": "code",
      "source": [
        "a_ + a_ # this addition process is done in gpu"
      ],
      "metadata": {
        "colab": {
          "base_uri": "https://localhost:8080/"
        },
        "id": "Bot5JwKzSlF0",
        "outputId": "7be7b3db-20fb-49e9-cc4a-15de423b849e"
      },
      "execution_count": null,
      "outputs": [
        {
          "output_type": "execute_result",
          "data": {
            "text/plain": [
              "tensor([2., 2., 2., 2., 2.], device='cuda:0')"
            ]
          },
          "metadata": {},
          "execution_count": 9
        }
      ]
    },
    {
      "cell_type": "markdown",
      "source": [
        "## To switch back to cpu processing"
      ],
      "metadata": {
        "id": "0jNHTylYTKRU"
      }
    },
    {
      "cell_type": "code",
      "source": [
        "# to run in cpu\n",
        "a_.to('cpu')"
      ],
      "metadata": {
        "id": "XLIEaHcHSzU6"
      },
      "execution_count": null,
      "outputs": []
    },
    {
      "cell_type": "markdown",
      "source": [
        "# Autograd"
      ],
      "metadata": {
        "id": "ICROynFqVC-N"
      }
    },
    {
      "cell_type": "markdown",
      "source": [
        "## backward in autograd"
      ],
      "metadata": {
        "id": "P4zwNgxTxnSF"
      }
    },
    {
      "cell_type": "code",
      "source": [
        "x1 = torch.randn(3, requires_grad=True)\n",
        "x1 # 3 random tensors"
      ],
      "metadata": {
        "colab": {
          "base_uri": "https://localhost:8080/"
        },
        "id": "EyGriKrVhpFn",
        "outputId": "439fa9e2-a192-461d-dcfc-58b29bb93b61"
      },
      "execution_count": null,
      "outputs": [
        {
          "output_type": "execute_result",
          "data": {
            "text/plain": [
              "tensor([0.0212, 0.6621, 1.5145], requires_grad=True)"
            ]
          },
          "metadata": {},
          "execution_count": 17
        }
      ]
    },
    {
      "cell_type": "code",
      "source": [
        "x2 = x1 + 2\n",
        "x2"
      ],
      "metadata": {
        "colab": {
          "base_uri": "https://localhost:8080/"
        },
        "id": "XYr0bANekSpM",
        "outputId": "7d680a3c-2c6e-4ebf-d955-53eccb8c3b36"
      },
      "execution_count": null,
      "outputs": [
        {
          "output_type": "execute_result",
          "data": {
            "text/plain": [
              "tensor([2.0212, 2.6621, 3.5145], grad_fn=<AddBackward0>)"
            ]
          },
          "metadata": {},
          "execution_count": 18
        }
      ]
    },
    {
      "cell_type": "code",
      "source": [
        "x3 = x2*x2*2\n",
        "x3"
      ],
      "metadata": {
        "colab": {
          "base_uri": "https://localhost:8080/"
        },
        "id": "w2JyBoh1k9GU",
        "outputId": "cbabd3a7-dd66-4688-98f5-dacfb7340565"
      },
      "execution_count": null,
      "outputs": [
        {
          "output_type": "execute_result",
          "data": {
            "text/plain": [
              "tensor([ 8.1706, 14.1731, 24.7031], grad_fn=<MulBackward0>)"
            ]
          },
          "metadata": {},
          "execution_count": 19
        }
      ]
    },
    {
      "cell_type": "code",
      "source": [
        "x3 = x3.mean()\n",
        "x3"
      ],
      "metadata": {
        "colab": {
          "base_uri": "https://localhost:8080/"
        },
        "id": "FAs82HqdkY_2",
        "outputId": "b84faf6d-48b9-4a6e-c8ad-a8bd86d023c5"
      },
      "execution_count": null,
      "outputs": [
        {
          "output_type": "execute_result",
          "data": {
            "text/plain": [
              "tensor(15.6823, grad_fn=<MeanBackward0>)"
            ]
          },
          "metadata": {},
          "execution_count": 20
        }
      ]
    },
    {
      "cell_type": "code",
      "source": [
        "x3.backward() # dx3/dx1\n",
        "# vector jacobian product to get gradients\n",
        "x1.grad"
      ],
      "metadata": {
        "colab": {
          "base_uri": "https://localhost:8080/"
        },
        "id": "wXYYKW2KlRNJ",
        "outputId": "1fbad2e8-94c0-49af-d8b9-74dd5f65439e"
      },
      "execution_count": null,
      "outputs": [
        {
          "output_type": "execute_result",
          "data": {
            "text/plain": [
              "tensor([2.6950, 3.5494, 4.6860])"
            ]
          },
          "metadata": {},
          "execution_count": 21
        }
      ]
    },
    {
      "cell_type": "markdown",
      "source": [
        "<hr/>"
      ],
      "metadata": {
        "id": "Iitb4BBhuTg_"
      }
    },
    {
      "cell_type": "code",
      "source": [
        "a = torch.tensor([2., 4., 6.], requires_grad=True)\n",
        "b = torch.tensor([3., 5., 7.], requires_grad=True) \n",
        "q = 3*a**2 - b**2"
      ],
      "metadata": {
        "id": "QBKunO9vJQNx"
      },
      "execution_count": null,
      "outputs": []
    },
    {
      "cell_type": "code",
      "source": [
        "ext_grad = torch.tensor([1., 1., 1.]) # if q is not scalar, we should send tensor as backward needs tensor\n",
        "q.backward(gradient=ext_grad)"
      ],
      "metadata": {
        "id": "kI6Ki9oDvUrS"
      },
      "execution_count": null,
      "outputs": []
    },
    {
      "cell_type": "code",
      "source": [
        "a.grad == 6*a # differenciation of 3*a**2 is 6*a"
      ],
      "metadata": {
        "colab": {
          "base_uri": "https://localhost:8080/"
        },
        "id": "vu5H7d-pwZgx",
        "outputId": "fbc810dc-9419-44f9-f978-5b6889371373"
      },
      "execution_count": null,
      "outputs": [
        {
          "output_type": "execute_result",
          "data": {
            "text/plain": [
              "tensor([True, True, True])"
            ]
          },
          "metadata": {},
          "execution_count": 24
        }
      ]
    },
    {
      "cell_type": "code",
      "source": [
        "b.grad == -2*b # differenciation of b**2 is -2*b"
      ],
      "metadata": {
        "colab": {
          "base_uri": "https://localhost:8080/"
        },
        "id": "zUu8qA0Nw96l",
        "outputId": "060fa564-a93c-4e38-d1ad-fff302dd9e34"
      },
      "execution_count": null,
      "outputs": [
        {
          "output_type": "execute_result",
          "data": {
            "text/plain": [
              "tensor([True, True, True])"
            ]
          },
          "metadata": {},
          "execution_count": 27
        }
      ]
    },
    {
      "cell_type": "markdown",
      "source": [
        "<hr/>"
      ],
      "metadata": {
        "id": "GLQXjpDSuYgO"
      }
    },
    {
      "cell_type": "markdown",
      "source": [
        "## Different ways to set requires_grad = False after intialization"
      ],
      "metadata": {
        "id": "m_EONST8u77N"
      }
    },
    {
      "cell_type": "markdown",
      "source": [
        "### requires_grad_"
      ],
      "metadata": {
        "id": "21zc6kfwyRoV"
      }
    },
    {
      "cell_type": "code",
      "source": [
        "a = torch.tensor([2., 4., 6.], requires_grad=True)\n",
        "a.requires_grad_(False) # sets gradient requires equals to false"
      ],
      "metadata": {
        "id": "X81njg5xhDsL"
      },
      "execution_count": null,
      "outputs": []
    },
    {
      "cell_type": "markdown",
      "source": [
        "### detach"
      ],
      "metadata": {
        "id": "XnnlVrsmyUDg"
      }
    },
    {
      "cell_type": "code",
      "source": [
        "a = torch.tensor([2., 4., 6.], requires_grad=True)\n",
        "a.detach() # sets gradient requires equals to false"
      ],
      "metadata": {
        "colab": {
          "base_uri": "https://localhost:8080/"
        },
        "id": "Rqobke2rutnl",
        "outputId": "6cdcfaa8-c538-49a5-d20a-bc8609adecb4"
      },
      "execution_count": null,
      "outputs": [
        {
          "output_type": "execute_result",
          "data": {
            "text/plain": [
              "tensor([2., 4., 6.])"
            ]
          },
          "metadata": {},
          "execution_count": 27
        }
      ]
    },
    {
      "cell_type": "code",
      "source": [
        "a = torch.tensor([2., 4., 6.], requires_grad=True)\n",
        "a.detach() # sets gradient requires equals to false"
      ],
      "metadata": {
        "colab": {
          "base_uri": "https://localhost:8080/"
        },
        "id": "b-c-VEPyueoV",
        "outputId": "04dd0643-cbef-42c5-f159-87a3d9fb3c68"
      },
      "execution_count": null,
      "outputs": [
        {
          "output_type": "execute_result",
          "data": {
            "text/plain": [
              "tensor([2., 4., 6.])"
            ]
          },
          "metadata": {},
          "execution_count": 25
        }
      ]
    },
    {
      "cell_type": "markdown",
      "source": [
        "### no_grad"
      ],
      "metadata": {
        "id": "acfWFeWfyati"
      }
    },
    {
      "cell_type": "markdown",
      "source": [
        "*With no_grad() function*"
      ],
      "metadata": {
        "id": "97D4iTKAvvHF"
      }
    },
    {
      "cell_type": "code",
      "source": [
        "a = torch.tensor([2., 4., 6.], requires_grad=True)\n",
        "with torch.no_grad(): # sets gradient requires equals to false the newer variable not the orginal\n",
        "  b = a + 2\n",
        "  print(b)"
      ],
      "metadata": {
        "colab": {
          "base_uri": "https://localhost:8080/"
        },
        "id": "YQ3QyQatvFd8",
        "outputId": "2e72cda0-2f9a-4a5d-94f5-2ed37e6f90f8"
      },
      "execution_count": null,
      "outputs": [
        {
          "output_type": "stream",
          "name": "stdout",
          "text": [
            "tensor([4., 6., 8.])\n"
          ]
        }
      ]
    },
    {
      "cell_type": "code",
      "source": [
        "a = torch.tensor([2., 4., 6.], requires_grad=True)\n",
        "with torch.no_grad(): # sets gradient requires equals to false the newer variable not the orginal\n",
        "  print(a)"
      ],
      "metadata": {
        "colab": {
          "base_uri": "https://localhost:8080/"
        },
        "id": "--qww3pMvfNL",
        "outputId": "c5bc9f37-6410-44e1-d84b-e239176c0885"
      },
      "execution_count": null,
      "outputs": [
        {
          "output_type": "stream",
          "name": "stdout",
          "text": [
            "tensor([2., 4., 6.], requires_grad=True)\n"
          ]
        }
      ]
    },
    {
      "cell_type": "markdown",
      "source": [
        "\"a\" still has requires_grad equals to \"True\""
      ],
      "metadata": {
        "id": "J6iLJhfRvhsv"
      }
    },
    {
      "cell_type": "markdown",
      "source": [
        "*Without no_grad() function*"
      ],
      "metadata": {
        "id": "ttk9zmnCvzlW"
      }
    },
    {
      "cell_type": "code",
      "source": [
        "a = torch.tensor([2., 4., 6.], requires_grad=True)\n",
        "b = a + 2\n",
        "print(b) # gradients will be set"
      ],
      "metadata": {
        "colab": {
          "base_uri": "https://localhost:8080/"
        },
        "id": "Tsbfk1qKvhVe",
        "outputId": "c84c2906-cf3c-4329-ea34-749e67cf3de5"
      },
      "execution_count": null,
      "outputs": [
        {
          "output_type": "stream",
          "name": "stdout",
          "text": [
            "tensor([4., 6., 8.], grad_fn=<AddBackward0>)\n"
          ]
        }
      ]
    },
    {
      "cell_type": "markdown",
      "source": [
        "*Incorrect gradients*"
      ],
      "metadata": {
        "id": "AyORK-6JBr8U"
      }
    },
    {
      "cell_type": "code",
      "source": [
        "weights = torch.ones(4, requires_grad=True)\n",
        "\n",
        "for epoch in range(3):\n",
        "  model_output = (weights*3).sum()\n",
        "  model_output.backward()\n",
        "  print(weights.grad)"
      ],
      "metadata": {
        "colab": {
          "base_uri": "https://localhost:8080/"
        },
        "id": "FqQJ7biNBne6",
        "outputId": "a318ad35-89e6-46ff-e9ea-4458bbc9150e"
      },
      "execution_count": null,
      "outputs": [
        {
          "output_type": "stream",
          "name": "stdout",
          "text": [
            "tensor([3., 3., 3., 3.])\n",
            "tensor([6., 6., 6., 6.])\n",
            "tensor([9., 9., 9., 9.])\n"
          ]
        }
      ]
    },
    {
      "cell_type": "markdown",
      "source": [
        "*Correct gradients*"
      ],
      "metadata": {
        "id": "312AHOJnBwI6"
      }
    },
    {
      "cell_type": "code",
      "source": [
        "weights = torch.ones(4, requires_grad=True)\n",
        "\n",
        "for epoch in range(3):\n",
        "  model_output = (weights*3).sum()\n",
        "  model_output.backward()\n",
        "  print(weights.grad)\n",
        "  weights.grad.zero_()"
      ],
      "metadata": {
        "colab": {
          "base_uri": "https://localhost:8080/"
        },
        "id": "t6XsJBqD6Mtl",
        "outputId": "bde4502c-9efd-44c2-db33-ad6b45773c24"
      },
      "execution_count": null,
      "outputs": [
        {
          "output_type": "stream",
          "name": "stdout",
          "text": [
            "tensor([3., 3., 3., 3.])\n",
            "tensor([3., 3., 3., 3.])\n",
            "tensor([3., 3., 3., 3.])\n"
          ]
        }
      ]
    },
    {
      "cell_type": "markdown",
      "source": [
        "# Backpropagation"
      ],
      "metadata": {
        "id": "wG8HauObNcoZ"
      }
    },
    {
      "cell_type": "markdown",
      "source": [
        "## perceptron"
      ],
      "metadata": {
        "id": "z6XV1G7UaAhW"
      }
    },
    {
      "cell_type": "code",
      "source": [
        "x = torch.tensor(1.0)\n",
        "y = torch.tensor(2.0)\n",
        "w = torch.tensor(1.0, requires_grad=True)\n",
        "y_pred = x*w\n",
        "z = y_pred - y\n",
        "loss = z**2\n",
        "loss"
      ],
      "metadata": {
        "colab": {
          "base_uri": "https://localhost:8080/"
        },
        "id": "oUi7UqSrNfrO",
        "outputId": "f66f68f6-28b6-45de-cf77-a6500219348d"
      },
      "execution_count": null,
      "outputs": [
        {
          "output_type": "execute_result",
          "data": {
            "text/plain": [
              "tensor(1., grad_fn=<PowBackward0>)"
            ]
          },
          "metadata": {},
          "execution_count": 9
        }
      ]
    },
    {
      "cell_type": "code",
      "source": [
        "loss.backward()\n",
        "w.grad"
      ],
      "metadata": {
        "colab": {
          "base_uri": "https://localhost:8080/"
        },
        "id": "AjMDJTh4Xfdn",
        "outputId": "ebd0e3a8-adea-4a35-ecc4-b6da58bd0827"
      },
      "execution_count": null,
      "outputs": [
        {
          "output_type": "execute_result",
          "data": {
            "text/plain": [
              "tensor(-2.)"
            ]
          },
          "metadata": {},
          "execution_count": 10
        }
      ]
    },
    {
      "cell_type": "markdown",
      "source": [
        "## updating weights"
      ],
      "metadata": {
        "id": "Vg6vXNs1YIsK"
      }
    },
    {
      "cell_type": "code",
      "source": [
        "x = torch.tensor(1.0)\n",
        "y = torch.tensor(2.0)\n",
        "w = torch.tensor(1.0, requires_grad=True)\n",
        "\n",
        "for i in range(10):\n",
        "  print(f'Loss: {w}')\n",
        "  y_pred = x*w\n",
        "  z = y_pred - y\n",
        "  loss = z**2\n",
        "  loss.backward()\n",
        "  with torch.no_grad():\n",
        "    w -= w.grad\n",
        "    w.grad.zero_()"
      ],
      "metadata": {
        "colab": {
          "base_uri": "https://localhost:8080/"
        },
        "id": "R-LD8HHXYLFM",
        "outputId": "68f9e84f-3255-4af7-921a-01cfdf49808c"
      },
      "execution_count": null,
      "outputs": [
        {
          "output_type": "stream",
          "name": "stdout",
          "text": [
            "Loss: 1.0\n",
            "Loss: 3.0\n",
            "Loss: 1.0\n",
            "Loss: 3.0\n",
            "Loss: 1.0\n",
            "Loss: 3.0\n",
            "Loss: 1.0\n",
            "Loss: 3.0\n",
            "Loss: 1.0\n",
            "Loss: 3.0\n"
          ]
        }
      ]
    },
    {
      "cell_type": "markdown",
      "source": [
        "# Gradient Descent with autograd and backpropagation"
      ],
      "metadata": {
        "id": "CNqPLuPMPnKT"
      }
    },
    {
      "cell_type": "markdown",
      "source": [
        "## 1. Fully Manual\n",
        "* Prediction - Manually\n",
        "* Gradient computation - Manually\n",
        "* loss computation - Manually\n",
        "* parameter updates - Manually"
      ],
      "metadata": {
        "id": "eLEk27WhFDfg"
      }
    },
    {
      "cell_type": "code",
      "source": [
        "# f = w * x\n",
        "# gradient = 2 * x * (y_pred - y)\n",
        "\n",
        "X = np.array([1,2,3,4], dtype= np.float32)\n",
        "Y = np.array([2,4,6,8], dtype= np.float32)\n",
        "w = 0.0"
      ],
      "metadata": {
        "id": "onxzAlLVlEpf"
      },
      "execution_count": 55,
      "outputs": []
    },
    {
      "cell_type": "code",
      "source": [
        "#training\n",
        "learning_rate = 0.01\n",
        "n_iters = 10"
      ],
      "metadata": {
        "id": "xhoT6tkPBO2H"
      },
      "execution_count": null,
      "outputs": []
    },
    {
      "cell_type": "code",
      "source": [
        "def forward(x):\n",
        "  return w*x\n",
        "\n",
        "def loss(y, y_pred):\n",
        "  return ((y_pred - y)**2).mean()\n",
        "\n",
        "def gradient(x, y, y_pred):\n",
        "  return np.dot(2*x, y_pred - y).mean()\n",
        "  \n",
        "# gradient\n",
        "# MSE = 1/N * (w*x - y)**2\n",
        "# dJ/dw = 1/N 2x (w*x -y)"
      ],
      "metadata": {
        "id": "ysHSh-gqlnBw"
      },
      "execution_count": 53,
      "outputs": []
    },
    {
      "cell_type": "code",
      "source": [
        "f'Predicted before training: f(5) {forward(5):.3f}'"
      ],
      "metadata": {
        "id": "YxKjC6yuvlWP",
        "outputId": "ba232228-2b10-4c2f-a806-74997307790c",
        "colab": {
          "base_uri": "https://localhost:8080/",
          "height": 35
        }
      },
      "execution_count": 7,
      "outputs": [
        {
          "output_type": "execute_result",
          "data": {
            "text/plain": [
              "'Predicted before training: f(5) 0.000'"
            ],
            "application/vnd.google.colaboratory.intrinsic+json": {
              "type": "string"
            }
          },
          "metadata": {},
          "execution_count": 7
        }
      ]
    },
    {
      "cell_type": "code",
      "source": [
        "for epoch in range(n_iters):\n",
        "  # prediciton forward pass\n",
        "  y_pred = forward(X)\n",
        "\n",
        "  # loss\n",
        "  l = loss(Y, y_pred)\n",
        "\n",
        "  # gradient = backward pass\n",
        "  dw = gradient(X, Y, y_pred)\n",
        "\n",
        "  # update = weight\n",
        "  w-= learning_rate * dw\n",
        "\n",
        "  if epoch % 1 ==0:\n",
        "    print(f'epoch {epoch+1}: w = {w:.3f}, loss = {l:.3f}')\n",
        "  \n",
        "print(f'Predicted after training: f(5) {forward(5):.3f}')"
      ],
      "metadata": {
        "id": "9Wrq3kKgzwhO",
        "outputId": "679bd50d-379c-46be-d03b-6534193d5155",
        "colab": {
          "base_uri": "https://localhost:8080/"
        }
      },
      "execution_count": 56,
      "outputs": [
        {
          "output_type": "stream",
          "name": "stdout",
          "text": [
            "epoch 1: w = 0.160, loss = 16.000\n",
            "epoch 2: w = 0.307, loss = 13.542\n",
            "epoch 3: w = 0.443, loss = 11.462\n",
            "epoch 4: w = 0.567, loss = 9.702\n",
            "epoch 5: w = 0.682, loss = 8.212\n",
            "epoch 6: w = 0.787, loss = 6.950\n",
            "epoch 7: w = 0.884, loss = 5.883\n",
            "epoch 8: w = 0.974, loss = 4.979\n",
            "epoch 9: w = 1.056, loss = 4.214\n",
            "epoch 10: w = 1.131, loss = 3.567\n",
            "Predicted after training: f(5) 5.656\n"
          ]
        }
      ]
    },
    {
      "cell_type": "code",
      "source": [
        "# early stopping epoch when loss increases\n",
        "X = np.array([1,2,3,4], dtype= np.float32)\n",
        "Y = np.array([2,4,6,8], dtype= np.float32)\n",
        "w = 0.0\n",
        "\n",
        "prev_loss = 0\n",
        "epoch = 0\n",
        "while True:\n",
        "  epoch +=1\n",
        "  # prediciton forward pass\n",
        "  y_pred = forward(X)\n",
        "\n",
        "  # loss\n",
        "  l = loss(Y, y_pred)\n",
        "\n",
        "  # gradient = backward pass\n",
        "  dw = gradient(X, Y, y_pred)\n",
        "\n",
        "  # update = weight\n",
        "  w-= learning_rate * dw\n",
        "\n",
        "\n",
        "  print(f'epoch {epoch}: w = {w:.3f}, loss = {l:.3f}')\n",
        "  \n",
        "  if epoch == 1:\n",
        "    prev_loss = l\n",
        "    continue\n",
        "  if round(prev_loss,3) <= round(l,3):\n",
        "    break\n",
        "  prev_loss = l\n",
        "\n",
        "print(f'Predicted after training: f(5) {forward(5):.3f}')"
      ],
      "metadata": {
        "id": "7-GkdEsgDVfR",
        "outputId": "d2a68382-0818-4b29-f286-4437ecd6a313",
        "colab": {
          "base_uri": "https://localhost:8080/"
        }
      },
      "execution_count": 60,
      "outputs": [
        {
          "output_type": "stream",
          "name": "stdout",
          "text": [
            "epoch 1: w = 1.200, loss = 30.000\n",
            "epoch 2: w = 1.680, loss = 4.800\n",
            "epoch 3: w = 1.872, loss = 0.768\n",
            "epoch 4: w = 1.949, loss = 0.123\n",
            "epoch 5: w = 1.980, loss = 0.020\n",
            "epoch 6: w = 1.992, loss = 0.003\n",
            "epoch 7: w = 1.997, loss = 0.001\n",
            "epoch 8: w = 1.999, loss = 0.000\n",
            "epoch 9: w = 1.999, loss = 0.000\n",
            "Predicted after training: f(5) 9.997\n"
          ]
        }
      ]
    },
    {
      "cell_type": "markdown",
      "source": [
        "## 2. Using autograd for Gradient computation\n",
        "* Prediction - Manually\n",
        "* Gradient computation - autograd\n",
        "* loss computation - Manually\n",
        "* parameter updates - Manually"
      ],
      "metadata": {
        "id": "CArVvQOBFa5d"
      }
    },
    {
      "cell_type": "code",
      "source": [
        "w = torch.tensor(0.0, dtype= torch.float32, requires_grad= True)\n",
        "n_iters = 100"
      ],
      "metadata": {
        "id": "XoegCBLfGYc7"
      },
      "execution_count": 66,
      "outputs": []
    },
    {
      "cell_type": "code",
      "source": [
        "for epoch in range(n_iters):\n",
        "  # prediciton = forward pass\n",
        "  y_pred = forward(X)\n",
        "\n",
        "  # loss\n",
        "  l = loss(Y, y_pred)\n",
        "\n",
        "  # gradient = backward pass\n",
        "  l.backward() # dl/dw\n",
        "\n",
        "  # update = weight\n",
        "  with torch.no_grad():\n",
        "    w-= learning_rate * w.grad\n",
        "\n",
        "    # zero gradients\n",
        "  w.grad.zero_()\n",
        "\n",
        "  if epoch % 5 ==0:\n",
        "    print(f'epoch {epoch+1}: w = {w:.3f}, loss = {l:.3f}')\n",
        "  \n",
        "print(f'Predicted after training: f(5) {forward(5):.3f}')"
      ],
      "metadata": {
        "id": "qtw38-qXG_fx",
        "outputId": "fa80dc1b-c264-429c-9baa-912dddc51285",
        "colab": {
          "base_uri": "https://localhost:8080/"
        }
      },
      "execution_count": 67,
      "outputs": [
        {
          "output_type": "stream",
          "name": "stdout",
          "text": [
            "epoch 1: w = 0.300, loss = 30.000\n",
            "epoch 2: w = 0.555, loss = 21.675\n",
            "epoch 3: w = 0.772, loss = 15.660\n",
            "epoch 4: w = 0.956, loss = 11.314\n",
            "epoch 5: w = 1.113, loss = 8.175\n",
            "epoch 6: w = 1.246, loss = 5.906\n",
            "epoch 7: w = 1.359, loss = 4.267\n",
            "epoch 8: w = 1.455, loss = 3.083\n",
            "epoch 9: w = 1.537, loss = 2.228\n",
            "epoch 10: w = 1.606, loss = 1.609\n",
            "Predicted after training: f(5) 8.031\n"
          ]
        }
      ]
    },
    {
      "cell_type": "markdown",
      "source": [
        "# Training Pipeline: Model, Loss, and Optimizer"
      ],
      "metadata": {
        "id": "-rlEH8ifdhIn"
      }
    },
    {
      "cell_type": "markdown",
      "source": [
        "## 3. PyTorch Loss & Optimer for loss computation and parameter updates\n",
        "* Prediction - Manually\n",
        "* Gradient computation - autograd\n",
        "* loss computation - PyTorch Loss\n",
        "* parameter updates - PyTorch Optimer"
      ],
      "metadata": {
        "id": "JgxUtM1VFbGT"
      }
    },
    {
      "cell_type": "markdown",
      "source": [
        "*Steps:*\n",
        "1. design mode (input, output size, forward pass)\n",
        "2. construct loss and optimizer\n",
        "3. training loop\n",
        "  - forward pass: compute prediction\n",
        "  - bacward pass: gradients\n",
        "  - update weights"
      ],
      "metadata": {
        "id": "k4NKl61AL1dK"
      }
    },
    {
      "cell_type": "code",
      "source": [
        "loss = nn.MSELoss()\n",
        "optimizer = torch.optim.SGD([w], lr = learning_rate)"
      ],
      "metadata": {
        "id": "unIGAjEvLpjg"
      },
      "execution_count": 70,
      "outputs": []
    },
    {
      "cell_type": "code",
      "source": [
        "w = torch.tensor(0.0, dtype= torch.float32, requires_grad= True)\n",
        "\n",
        "for epoch in range(n_iters):\n",
        "  \n",
        "  y_pred = forward(X) # prediciton = forward pass\n",
        "\n",
        "  l = loss(Y, y_pred) # loss\n",
        "\n",
        "  l.backward() # gradient = backward pass, dl/dw\n",
        "\n",
        "  optimizer.step() # update = weight\n",
        "\n",
        "  optimizer.zero_grad() # zero gradients\n",
        "\n",
        "  if epoch % 5 ==0:\n",
        "    print(f'epoch {epoch+1}: w = {w:.3f}, loss = {l:.3f}')\n",
        "  \n",
        "print(f'Predicted after training: f(5) {forward(5):.3f}')"
      ],
      "metadata": {
        "id": "bdT8CbbeJXSJ",
        "outputId": "c6931d17-7502-4356-9ce7-7ea740e85123",
        "colab": {
          "base_uri": "https://localhost:8080/"
        }
      },
      "execution_count": 69,
      "outputs": [
        {
          "output_type": "stream",
          "name": "stdout",
          "text": [
            "epoch 1: w = 0.300, loss = 30.000\n",
            "epoch 2: w = 0.555, loss = 21.675\n",
            "epoch 3: w = 0.772, loss = 15.660\n",
            "epoch 4: w = 0.956, loss = 11.314\n",
            "epoch 5: w = 1.113, loss = 8.175\n",
            "epoch 6: w = 1.246, loss = 5.906\n",
            "epoch 7: w = 1.359, loss = 4.267\n",
            "epoch 8: w = 1.455, loss = 3.083\n",
            "epoch 9: w = 1.537, loss = 2.228\n",
            "epoch 10: w = 1.606, loss = 1.609\n",
            "Predicted after training: f(5) 8.031\n"
          ]
        }
      ]
    },
    {
      "cell_type": "markdown",
      "source": [
        "## 4. Fully PyTorch\n",
        "* Prediction - PyTorch Model\n",
        "* Gradient computation - autograd\n",
        "* loss computation - PyTorch Loss\n",
        "* parameter updates - PyTorch Optimer"
      ],
      "metadata": {
        "id": "MZSDHbb8FbPz"
      }
    },
    {
      "cell_type": "code",
      "source": [
        "X = X.reshape(-1,1)\n",
        "Y = Y.reshape(-1,1)\n",
        "n_samples, n_features = X.shape\n",
        "input_size = n_features\n",
        "output_size = n_features"
      ],
      "metadata": {
        "id": "R1BHMMJaMi7S"
      },
      "execution_count": 116,
      "outputs": []
    },
    {
      "cell_type": "code",
      "source": [
        "model = nn.Linear(input_size, output_size)\n",
        "optimizer = torch.optim.SGD(model.parameters(), lr = learning_rate)"
      ],
      "metadata": {
        "id": "1ljshCe5LlxF"
      },
      "execution_count": 101,
      "outputs": []
    },
    {
      "cell_type": "code",
      "source": [
        "X_test = torch.tensor([5], dtype= torch.float32)"
      ],
      "metadata": {
        "id": "ak2Lu-yoNTVZ"
      },
      "execution_count": 102,
      "outputs": []
    },
    {
      "cell_type": "code",
      "source": [
        "f'Predicted after training: f(5) {model(X_test).item():.3f}'"
      ],
      "metadata": {
        "id": "8su1_I5SM1Gp",
        "outputId": "5dd9edc2-f1fe-4c4d-b44e-84a2745a8433",
        "colab": {
          "base_uri": "https://localhost:8080/",
          "height": 35
        }
      },
      "execution_count": 93,
      "outputs": [
        {
          "output_type": "execute_result",
          "data": {
            "text/plain": [
              "'Predicted after training: f(5) 1.394'"
            ],
            "application/vnd.google.colaboratory.intrinsic+json": {
              "type": "string"
            }
          },
          "metadata": {},
          "execution_count": 93
        }
      ]
    },
    {
      "cell_type": "code",
      "source": [
        "for epoch in range(n_iters):\n",
        "  y_pred = model(X) # prediciton = forward pass\n",
        "  l = loss(Y, y_pred) # loss\n",
        "  l.backward() # gradient = backward pass, dl/dw \n",
        "  optimizer.step() # update = weight\n",
        "  optimizer.zero_grad() # zero gradients\n",
        "\n",
        "  if epoch % 5 ==0:\n",
        "    [w, b] = model.parameters()\n",
        "    print(f'epoch {epoch+1}: w = {w[0][0].item():.3f}, loss = {l:.3f}')\n",
        "  \n",
        "print(f'Predicted after training: f(5) {model(X_test).item():.3f}')"
      ],
      "metadata": {
        "id": "_1TgPYsCN2gk",
        "outputId": "72e4ac7b-af9a-4f89-c361-ff299f53c2f1",
        "colab": {
          "base_uri": "https://localhost:8080/"
        }
      },
      "execution_count": 88,
      "outputs": [
        {
          "output_type": "stream",
          "name": "stdout",
          "text": [
            "epoch 1: w = 0.070, loss = 29.788\n",
            "epoch 2: w = 0.319, loss = 20.757\n",
            "epoch 3: w = 0.527, loss = 14.489\n",
            "epoch 4: w = 0.700, loss = 10.140\n",
            "epoch 5: w = 0.844, loss = 7.122\n",
            "epoch 6: w = 0.965, loss = 5.027\n",
            "epoch 7: w = 1.065, loss = 3.573\n",
            "epoch 8: w = 1.149, loss = 2.563\n",
            "epoch 9: w = 1.219, loss = 1.862\n",
            "epoch 10: w = 1.278, loss = 1.375\n",
            "Predicted after training: f(5) 7.574\n"
          ]
        }
      ]
    },
    {
      "cell_type": "markdown",
      "source": [
        "## Custom LinearRegression Model"
      ],
      "metadata": {
        "id": "OjrhN3a0PstX"
      }
    },
    {
      "cell_type": "code",
      "source": [
        "class LinearRegression(nn.Module):\n",
        "\n",
        "  def __init__(self, input_dim, output_dim):\n",
        "    super(LinearRegression, self).__init__()\n",
        "    # define layers\n",
        "    self.lin = nn.Linear(input_dim, output_dim)\n",
        "  \n",
        "  def forward(self, x):\n",
        "    return self.lin(x)"
      ],
      "metadata": {
        "id": "kMHJzO8-PwaJ"
      },
      "execution_count": 94,
      "outputs": []
    },
    {
      "cell_type": "code",
      "source": [
        "model = LinearRegression(input_size, output_size)\n",
        "optimizer = torch.optim.SGD(model.parameters(), lr = learning_rate)"
      ],
      "metadata": {
        "id": "tmXk8Ig8QwVj"
      },
      "execution_count": 132,
      "outputs": []
    },
    {
      "cell_type": "code",
      "source": [
        "for epoch in range(n_iters):\n",
        "  y_pred = model(X) # prediciton = forward pass\n",
        "  l = loss(Y, y_pred) # loss\n",
        "  l.backward() # gradient = backward pass, dl/dw \n",
        "  optimizer.step() # update = weight\n",
        "  optimizer.zero_grad() # zero gradients\n",
        "\n",
        "  if epoch % 5 ==0:\n",
        "    [w, b] = model.parameters()\n",
        "    print(f'epoch {epoch//5+1}: w = {w[0][0].item():.3f}, loss = {l:.3f}')\n",
        "  \n",
        "print(f'Predicted after training: f(5) {model(X_test).item():.3f}')"
      ],
      "metadata": {
        "id": "LUa7c1FJQ21f",
        "outputId": "7b25a2f8-4137-44ac-e4c2-722139a0e072",
        "colab": {
          "base_uri": "https://localhost:8080/"
        }
      },
      "execution_count": 133,
      "outputs": [
        {
          "output_type": "stream",
          "name": "stdout",
          "text": [
            "epoch 1: w = -0.092, loss = 36.795\n",
            "epoch 2: w = 0.902, loss = 6.149\n",
            "epoch 3: w = 1.305, loss = 1.213\n",
            "epoch 4: w = 1.470, loss = 0.413\n",
            "epoch 5: w = 1.540, loss = 0.278\n",
            "epoch 6: w = 1.572, loss = 0.250\n",
            "epoch 7: w = 1.588, loss = 0.239\n",
            "epoch 8: w = 1.598, loss = 0.231\n",
            "epoch 9: w = 1.606, loss = 0.225\n",
            "epoch 10: w = 1.612, loss = 0.218\n",
            "epoch 11: w = 1.618, loss = 0.211\n",
            "epoch 12: w = 1.624, loss = 0.205\n",
            "epoch 13: w = 1.630, loss = 0.199\n",
            "epoch 14: w = 1.635, loss = 0.193\n",
            "epoch 15: w = 1.641, loss = 0.188\n",
            "epoch 16: w = 1.646, loss = 0.182\n",
            "epoch 17: w = 1.651, loss = 0.177\n",
            "epoch 18: w = 1.656, loss = 0.171\n",
            "epoch 19: w = 1.662, loss = 0.166\n",
            "epoch 20: w = 1.667, loss = 0.161\n",
            "Predicted after training: f(5) 9.321\n"
          ]
        }
      ]
    },
    {
      "cell_type": "markdown",
      "source": [
        "# Notes"
      ],
      "metadata": {
        "id": "ol0RuosYzP7r"
      }
    },
    {
      "cell_type": "markdown",
      "source": [
        "* if a function ends **_** , that basically will modify our variable inplace\n",
        "* **grad.zero_()** for every mini-batch during the training phase, we typically want to explicitly set the gradients to zero before starting to do backpropragation (i.e., updating the Weights and biases) because PyTorch accumulates the gradients on subsequent backward passes.\n"
      ],
      "metadata": {
        "id": "SXZq3W8jzOAP"
      }
    },
    {
      "cell_type": "markdown",
      "source": [
        "# Reference"
      ],
      "metadata": {
        "id": "vMnJ3CrCzeRW"
      }
    },
    {
      "cell_type": "markdown",
      "source": [
        "PyTorch Youtube Tutorials<br>\n",
        "https://www.youtube.com/watch?v=EMXfZB8FVUA&list=PLqnslRFeH2UrcDBWF5mfPGpqQDSta6VK4&index=1"
      ],
      "metadata": {
        "id": "c-0ODAL_zjrh"
      }
    }
  ]
}